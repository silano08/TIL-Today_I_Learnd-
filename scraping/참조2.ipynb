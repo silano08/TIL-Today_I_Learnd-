{
 "cells": [
  {
   "cell_type": "code",
   "execution_count": 19,
   "metadata": {},
   "outputs": [
    {
     "name": "stderr",
     "output_type": "stream",
     "text": [
      "[WDM] - ====== WebDriver manager ======\n",
      "[WDM] - Current google-chrome version is 89.0.4389\n",
      "[WDM] - Get LATEST driver version for 89.0.4389\n",
      "[WDM] - Driver [C:\\Users\\82104\\.wdm\\drivers\\chromedriver\\win32\\89.0.4389.23\\chromedriver.exe] found in cache\n"
     ]
    },
    {
     "name": "stdout",
     "output_type": "stream",
     "text": [
      "\n",
      "\n",
      "[<div class=\"content02\">\n",
      "<!-- 제품 상세보기 -->\n",
      "<div class=\"product_view_wrap1\">\n",
      "<div class=\"product_view_pic\">\n",
      "<div class=\"product_big_pic\">\n",
      "<p><a aria-hidden=\"true\" href=\"javascript:void(0)\" role=\"presentation\" tabindex=\"-1\"><!-- 접근성_20171123 tabindex, aria, role 추가 --><img alt=\"상세이미지\" class=\"zoomImg\" data-zoom-image=\"https://image.istarbucks.co.kr/upload/store/skuimg/2021/03/[9200000003428]_20210324170025045.jpg\" src=\"https://image.istarbucks.co.kr/upload/store/skuimg/2021/03/[9200000003428]_20210324170025045.jpg\"/></a></p>\n",
      "<p class=\"more_btn\"><a aria-hidden=\"true\" href=\"javascript:void(0)\" role=\"presentation\" tabindex=\"-1\"><img alt=\"상세이미지\" src=\"//image.istarbucks.co.kr/common/img/menu/more.png\"/></a><!-- 접근성_20171123 alt 추가 --></p>\n",
      "</div>\n",
      "<div class=\"product_thum_wrap\" id=\"product_thum_wrap\">\n",
      "<ul class=\"product_thum\"><li><a class=\"elevatezoom-gallery active\" data-image=\"https://image.istarbucks.co.kr/upload/store/skuimg/2021/03/[9200000003428]_20210324170025045.jpg\" data-zoom-image=\"https://image.istarbucks.co.kr/upload/store/skuimg/2021/03/[9200000003428]_20210324170025045.jpg\" href=\"javascript:void(0)\"><img alt=\"상세이미지 1번\" src=\"https://image.istarbucks.co.kr/upload/store/skuimg/2021/03/[9200000003428]_20210324170025045.jpg\"/></a></li></ul>\n",
      "</div>\n",
      "</div>\n",
      "<div class=\"product_view_detail\">\n",
      "<div class=\"myAssignZone\">\n",
      "<h4>제주 별다방 땅콩 프라푸치노<br/><span>Jeju Byuldabang Peanut Frappuccino</span></h4>\n",
      "<p class=\"t1\">[제주지역 한정음료] 커피 땅콩의 디저트 느낌의 음료로\n",
      "<br/>땅콩의 고소함과 커피 풍미가 강조된 한여름밤 시원하게 즐길 수 있는 음료</p>\n",
      "<div class=\"myDrink\"><a href=\"javascript:void(0)\" role=\"button\" title=\"나만의 음료 등록 옵션 열기\">나만의 음료로 등록</a><!-- 접근성_20171123 role, title 추가 --></div>\n",
      "</div>\n",
      "<div class=\"m_view_slide\">\n",
      "<div class=\"bx-wrapper\" style=\"max-width: 100%;\"><div class=\"bx-viewport\" style=\"width: 100%; overflow: hidden; position: relative; height: 0px;\"><ul class=\"m_view_slider\" style=\"width: auto; position: relative;\">\n",
      "<li style=\"float: none; list-style: none; position: absolute; width: 100px; z-index: 50; display: block;\"><img alt=\"\" class=\"m_view_img\" data-zoom-image=\"https://image.istarbucks.co.kr/upload/store/skuimg/2021/03/[9200000003428]_20210324170025045.jpg\" src=\"https://image.istarbucks.co.kr/upload/store/skuimg/2021/03/[9200000003428]_20210324170025045.jpg\"/></li></ul></div><div class=\"bx-controls bx-has-controls-direction\"><div class=\"bx-controls-direction\"><a class=\"bx-prev disabled\" href=\"\">Prev</a><a class=\"bx-next disabled\" href=\"\">Next</a></div></div></div>\n",
      "<div class=\"m_view_controller\" style=\"display: none;\">\n",
      "<div class=\"m_view_controls\"></div>\n",
      "<div class=\"m_view_pagers\"><div class=\"bx-pager bx-default-pager\"><div class=\"bx-pager-item\"><a class=\"bx-pager-link active\" data-slide-index=\"0\" href=\"\">1</a></div></div></div>\n",
      "</div>\n",
      "<p id=\"prevBtn\" style=\"display: none;\"><a href=\"javascript:void(0)\" role=\"button\">이전 버튼</a><!-- 접근성_20171123 role 추가 --></p>\n",
      "<p id=\"nextBtn\" style=\"display: none;\"><a href=\"javascript:void(0)\" role=\"button\">다음 버튼</a><!-- 접근성_20171123 role 추가 --></p>\n",
      "</div>\n",
      "<form method=\"post\">\n",
      "<fieldset>\n",
      "<legend class=\"hid\">제품 영양 정보</legend>\n",
      "<div class=\"product_view_info\">\n",
      "<div class=\"product_info_head\">\n",
      "<p class=\"tit\">제품 영양 정보</p>\n",
      "<div class=\"product_select_wrap2\">\n",
      "<div class=\"selectTxt2\" id=\"product_info01\">Grande(그란데) / 473ml (16 fl oz)</div>\n",
      "<div class=\"select_box select_box04\" id=\"productSelectBox\" style=\"display:none;\">\n",
      "<label class=\"value\" for=\"product_info02\">일반</label>\n",
      "<select id=\"product_info02\" title=\"제품 영양 정보\">\n",
      "<option value=\"일반\">일반</option>\n",
      "<option value=\"라이트\">라이트</option>\n",
      "</select>\n",
      "</div>\n",
      "</div>\n",
      "</div>\n",
      "<div class=\"product_info_content\">\n",
      "<ul>\n",
      "<li class=\"kcal\">\n",
      "<dl>\n",
      "<dt>1회 제공량 (kcal)</dt>\n",
      "<dd>545</dd>\n",
      "</dl>\n",
      "</li>\n",
      "<li class=\"sat_FAT\">\n",
      "<dl>\n",
      "<dt>포화지방 (g)</dt>\n",
      "<dd>9</dd>\n",
      "</dl>\n",
      "</li>\n",
      "<li class=\"protein\">\n",
      "<dl>\n",
      "<dt>단백질 (g)</dt>\n",
      "<dd>8</dd>\n",
      "</dl>\n",
      "</li>\n",
      "<li class=\"fat\" style=\"display:none;\">\n",
      "<dl>\n",
      "<dt>지방 (g)</dt>\n",
      "<dd>17</dd>\n",
      "</dl>\n",
      "</li>\n",
      "<li class=\"trans_FAT\" style=\"display:none;\">\n",
      "<dl>\n",
      "<dt>트랜스지방 (g)</dt>\n",
      "<dd>0</dd>\n",
      "</dl>\n",
      "</li>\n",
      "</ul>\n",
      "<ul>\n",
      "<li class=\"sodium\">\n",
      "<dl>\n",
      "<dt>나트륨 (mg)</dt>\n",
      "<dd>230</dd>\n",
      "</dl>\n",
      "</li>\n",
      "<li class=\"sugars\">\n",
      "<dl>\n",
      "<dt>당류 (g)</dt>\n",
      "<dd>83</dd>\n",
      "</dl>\n",
      "</li>\n",
      "<li class=\"caffeine last\">\n",
      "<dl>\n",
      "<dt>카페인 (mg)</dt>\n",
      "<dd>20</dd>\n",
      "</dl>\n",
      "</li>\n",
      "<li class=\"cholesterol\" style=\"display:none;\">\n",
      "<dl>\n",
      "<dt>콜레스테롤 (mg)</dt>\n",
      "<dd>15</dd>\n",
      "</dl>\n",
      "</li>\n",
      "<li class=\"chabo\" style=\"display:none;\">\n",
      "<dl>\n",
      "<dt>탄수화물 (g)</dt>\n",
      "<dd>91</dd>\n",
      "</dl>\n",
      "</li>\n",
      "</ul>\n",
      "</div>\n",
      "<div class=\"product_factor\">\n",
      "<p>알레르기 유발요인 : 땅콩 / 대두 / 우유</p>\n",
      "</div>\n",
      "<div class=\"product_sns_wrap\">\n",
      "<ul class=\"product_sns\">\n",
      "<li data-sns=\"F\"><a href=\"javascript:void(0)\" title=\"페이스북 공유하기 새창\"><!-- 접근성_20171123 title 추가 --><img alt=\"페이스북 공유하기\" src=\"//image.istarbucks.co.kr/common/img/menu/sns02.png\"/><!-- 접근성_20171123 alt 추가 --></a></li>\n",
      "</ul>\n",
      "</div>\n",
      "<!-- 20160905 티바나 관련 추가 -->\n",
      "<p class=\"bnr_coldbrew_wrap bnr_teavana\" style=\"display:none;\"><a href=\"/menuStory/teavana.do\"><img alt=\"티바나 소개 페이지 바로가기\" src=\"//image.istarbucks.co.kr/common/img/menu/bnr_teavana_1907.jpg\"/></a></p>\n",
      "<!-- 20160905 티바나 관련 추가 end -->\n",
      "<!-- 콜드브루 배너 추가 -->\n",
      "<p class=\"bnr_coldbrew_wrap bnr_coldbrew\" style=\"display:none;\"><a href=\"/store/store_coldbrew.do\"><img alt=\"콜드브루 소개 페이지 바로가기\" src=\"/common/img/menu/bnr_coldbrew.png\"/><!-- 접근성_20171123 alt 추가 --></a></p>\n",
      "<!-- 콜드브루 배너 추가 end -->\n",
      "</div>\n",
      "</fieldset>\n",
      "</form>\n",
      "</div>\n",
      "</div>\n",
      "<div class=\"product_view_wrap2\">[제주지역 한정음료] 커피 땅콩의 디저트 느낌의 음료로\n",
      "<br/>땅콩의 고소함과 커피 풍미가 강조된 한여름밤 시원하게 즐길 수 있는 음료</div>\n",
      "<!-- 제품 상세보기 end -->\n",
      "</div>]\n"
     ]
    }
   ],
   "source": [
    "import csv\n",
    "import re\n",
    "import time\n",
    "\n",
    "import requests\n",
    "from bs4 import BeautifulSoup\n",
    "# from pymongo import MongoClient\n",
    "from selenium import webdriver\n",
    "from selenium.webdriver.common.keys import Keys\n",
    "from webdriver_manager.chrome import ChromeDriverManager\n",
    "\n",
    "url = \"https://www.starbucks.co.kr/menu/drink_view.do?product_cd=9200000003428\"\n",
    "\n",
    "driver = webdriver.Chrome(ChromeDriverManager().install())\n",
    "driver.get(url)\n",
    "\n",
    "html = driver.page_source\n",
    "soup = BeautifulSoup(html, 'html.parser')\n",
    "drinks = soup.findAll(\"div\", {\"class\": re.compile(\"content02\")})\n",
    "\n",
    "print(drinks)\n"
   ]
  },
  {
   "cell_type": "code",
   "execution_count": 40,
   "metadata": {},
   "outputs": [
    {
     "name": "stdout",
     "output_type": "stream",
     "text": [
      "menu: 음료 \n",
      "category: 프라푸치노 \n",
      "name: 제주 별다방 땅콩 프라푸치노 \n",
      "eng_name: Jeju Byuldabang Peanut Frappuccino \n",
      "description: [제주지역 한정음료] 커피 땅콩의 디저트 느낌의 음료로\n",
      "땅콩의 고소함과 커피 풍미가 강조된 한여름밤 시원하게 즐길 수 있는 음료 \n",
      "image: https://image.istarbucks.co.kr/upload/store/skuimg/2021/03/[9200000003428]_20210324170025045.jpg \n",
      "nutrition: ['545', '9', '8', '17', '0', '230', '83', '20'] \n",
      "allergy:  땅콩 / 대두 / 우유 \n",
      "ice: True \n",
      "hot: False\n"
     ]
    }
   ],
   "source": [
    "#큰카테고리\n",
    "menu = \"음료\"\n",
    "\n",
    "# 중간카테고리\n",
    "a = soup.findAll(\"div\", {\"class\": re.compile(\"sub_tit_inner\")})\n",
    "category = a[0].findAll('a', {\"class\": re.compile(\"cate\")})[0].text\n",
    "\n",
    "# 디테일\n",
    "eng_name = drinks[0].findAll(\"div\", {\"class\": re.compile(\"myAssignZone\")})[0].findAll(\"h4\")[0].findAll('span')[0].text\n",
    "name = drinks[0].findAll(\"div\", {\"class\": re.compile(\"myAssignZone\")})[0].findAll(\"h4\")[0].text.replace(eng_name,'')\n",
    "description = drinks[0].findAll(\"p\", {\"class\": re.compile(\"t1\")})[0].text\n",
    "price = 5600\n",
    "eng_category = \"추후직접수정해야함\"\n",
    "# 영양소가 1차원 배열인데 텍스트로 수정..할지말지 추후 상의\n",
    "nutrition = [x.text for x in drinks[0](\"dd\")][:8]\n",
    "image = drinks[0].findAll(\"img\", {\"class\": re.compile(\"zoomImg\")})[0]['src']\n",
    "allergy = drinks[0].findAll(\"div\", {\"class\": re.compile(\"product_factor\")})[0].findAll(\"p\")[0].text.split(\":\")[1]\n",
    "\n",
    "# hot / ice 구분을 위한 리스트\n",
    "default_ice = [\"콜드 브루\",\"프라푸치노\",\"스타벅스 피지오\"]\n",
    "\n",
    "# hot 과 ice를 나누어주는 조건문\n",
    "if category in default_ice:\n",
    "    hot = False\n",
    "    ice = True\n",
    "elif \"아이스\" in name:\n",
    "    hot = False\n",
    "    ice = True\n",
    "else:\n",
    "    hot = True\n",
    "    ice = False\n",
    "\n",
    "print(\"menu:\",menu,\"\\ncategory:\",category,\"\\nname:\",name,\"\\neng_name:\",eng_name,\"\\ndescription:\",description,\"\\nimage:\",image,\"\\nnutrition:\",nutrition,\"\\nallergy:\",allergy,\"\\nice:\",ice,\"\\nhot:\",hot)"
   ]
  },
  {
   "cell_type": "code",
   "execution_count": 36,
   "metadata": {},
   "outputs": [
    {
     "name": "stdout",
     "output_type": "stream",
     "text": [
      "yes\n"
     ]
    }
   ],
   "source": [
    "s = \"아이스 카페 아메리카노\"\n",
    "if \"아이스\" in s:\n",
    "    print(\"yes\")"
   ]
  },
  {
   "cell_type": "code",
   "execution_count": 29,
   "metadata": {},
   "outputs": [
    {
     "name": "stdout",
     "output_type": "stream",
     "text": [
      " 땅콩 / 대두 / 우유\n"
     ]
    }
   ],
   "source": [
    "english = drinks[0].findAll(\"div\", {\"class\": re.compile(\"product_factor\")})[0].findAll(\"p\")[0].text.split(\":\")[1]\n",
    "print(english)"
   ]
  },
  {
   "cell_type": "code",
   "execution_count": 13,
   "metadata": {},
   "outputs": [
    {
     "name": "stdout",
     "output_type": "stream",
     "text": [
      "<h4>미드나잇 베르가못 콜드 브루<br/><span>Midnight Bergamot Cold Brew</span></h4>\n"
     ]
    }
   ],
   "source": [
    "english = drinks[0].findAll(\"div\", {\"class\": re.compile(\"myAssignZone\")})[0].findAll(\"h4\")[0]\n",
    "print(english)"
   ]
  },
  {
   "cell_type": "code",
   "execution_count": 115,
   "metadata": {},
   "outputs": [
    {
     "data": {
      "text/plain": [
       "[<dd>5</dd>, <dd>0</dd>, <dd>0</dd>, <dd>0</dd>, <dd>0</dd>]"
      ]
     },
     "execution_count": 115,
     "metadata": {},
     "output_type": "execute_result"
    }
   ],
   "source": [
    "soup.findAll('div', {\"class\": re.compile(\"product_info_content\")})[0].findAll(\"ul\")[0].findAll(\"dd\")"
   ]
  },
  {
   "cell_type": "code",
   "execution_count": 117,
   "metadata": {},
   "outputs": [
    {
     "data": {
      "text/plain": [
       "[[],\n",
       " [],\n",
       " [<dd>5</dd>],\n",
       " [<dd>0</dd>],\n",
       " [<dd>0</dd>],\n",
       " [<dd>0</dd>],\n",
       " [<dd>0</dd>],\n",
       " [<dd>10</dd>],\n",
       " [<dd>0</dd>],\n",
       " [<dd>140</dd>],\n",
       " [<dd>0</dd>],\n",
       " [<dd>0</dd>],\n",
       " []]"
      ]
     },
     "execution_count": 117,
     "metadata": {},
     "output_type": "execute_result"
    }
   ],
   "source": [
    "[x.findAll(\"dd\") for x in drinks[0].findAll('li')]"
   ]
  },
  {
   "cell_type": "code",
   "execution_count": 127,
   "metadata": {
    "scrolled": true
   },
   "outputs": [
    {
     "name": "stdout",
     "output_type": "stream",
     "text": [
      "['5', '0', '0', '0', '0', '10', '0', '140']\n"
     ]
    }
   ],
   "source": [
    "# 영양소\n",
    "# 1회제공량칼로리 - 포화지방 - 단백질 - 지방 - 트랜스지방 - 나트륨 - 당류 - 카페인\n",
    "# image = drinks[0].findAll(\"dd\")[0]\n",
    "nutrition = [x.text for x in drinks[0](\"dd\")][:8]\n",
    "print(nutrition)\n",
    "# print(image)\n",
    "#       .get_attribute('src'))"
   ]
  },
  {
   "cell_type": "code",
   "execution_count": 109,
   "metadata": {},
   "outputs": [
    {
     "data": {
      "text/plain": [
       "[<dd>5</dd>,\n",
       " <dd>0</dd>,\n",
       " <dd>0</dd>,\n",
       " <dd>0</dd>,\n",
       " <dd>0</dd>,\n",
       " <dd>10</dd>,\n",
       " <dd>0</dd>,\n",
       " <dd>140</dd>,\n",
       " <dd>0</dd>,\n",
       " <dd>0</dd>]"
      ]
     },
     "execution_count": 109,
     "metadata": {},
     "output_type": "execute_result"
    }
   ],
   "source": [
    "drinks[0].findAll(\"dd\")"
   ]
  },
  {
   "cell_type": "code",
   "execution_count": 67,
   "metadata": {},
   "outputs": [
    {
     "name": "stdout",
     "output_type": "stream",
     "text": [
      "브루드 커피\n"
     ]
    }
   ],
   "source": [
    "a = soup.findAll(\"div\", {\"class\": re.compile(\"sub_tit_inner\")})\n",
    "a = a[0].findAll('a', {\"class\": re.compile(\"cate\")})[0].text\n",
    "print(a)"
   ]
  },
  {
   "cell_type": "code",
   "execution_count": 54,
   "metadata": {},
   "outputs": [],
   "source": [
    "# 제품영양정보\n",
    "n = drinks[0].findAll(\"img\", {\"class\": re.compile(\"zoomImg\")})[0]['src']"
   ]
  },
  {
   "cell_type": "code",
   "execution_count": 4,
   "metadata": {},
   "outputs": [
    {
     "name": "stdout",
     "output_type": "stream",
     "text": [
      "[<div class=\"content02\">\n",
      "<!-- 제품 상세보기 -->\n",
      "<div class=\"product_view_wrap1\">\n",
      "<div class=\"product_view_pic\">\n",
      "<div class=\"product_big_pic\">\n",
      "<p><a aria-hidden=\"true\" href=\"javascript:void(0)\" role=\"presentation\" tabindex=\"-1\"><!-- 접근성_20171123 tabindex, aria, role 추가 --><img alt=\"상세이미지\" class=\"zoomImg\" data-zoom-image=\"https://image.istarbucks.co.kr/upload/store/skuimg/2015/07/[106509]_20150724164325877.jpg\" src=\"https://image.istarbucks.co.kr/upload/store/skuimg/2015/07/[106509]_20150724164325877.jpg\"/></a></p>\n",
      "<p class=\"more_btn\"><a aria-hidden=\"true\" href=\"javascript:void(0)\" role=\"presentation\" tabindex=\"-1\"><img alt=\"상세이미지\" src=\"//image.istarbucks.co.kr/common/img/menu/more.png\"/></a><!-- 접근성_20171123 alt 추가 --></p>\n",
      "</div>\n",
      "<div class=\"product_thum_wrap\" id=\"product_thum_wrap\">\n",
      "<ul class=\"product_thum\"><li><a class=\"elevatezoom-gallery active\" data-image=\"https://image.istarbucks.co.kr/upload/store/skuimg/2015/07/[106509]_20150724164325877.jpg\" data-zoom-image=\"https://image.istarbucks.co.kr/upload/store/skuimg/2015/07/[106509]_20150724164325877.jpg\" href=\"javascript:void(0)\"><img alt=\"상세이미지 1번\" src=\"https://image.istarbucks.co.kr/upload/store/skuimg/2015/07/[106509]_20150724164325877.jpg\"/></a></li></ul>\n",
      "</div>\n",
      "</div>\n",
      "<div class=\"product_view_detail\">\n",
      "<div class=\"myAssignZone\">\n",
      "<h4>아이스 커피<br/><span>Iced Coffee</span></h4>\n",
      "<p class=\"t1\">깔끔하고 상큼함이 특징인 시원한 아이스 커피</p>\n",
      "<div class=\"myDrink\"><a href=\"javascript:void(0)\" role=\"button\" title=\"나만의 음료 등록 옵션 열기\">나만의 음료로 등록</a><!-- 접근성_20171123 role, title 추가 --></div>\n",
      "</div>\n",
      "<div class=\"m_view_slide\">\n",
      "<div class=\"bx-wrapper\" style=\"max-width: 100%;\"><div class=\"bx-viewport\" style=\"width: 100%; overflow: hidden; position: relative; height: 0px;\"><ul class=\"m_view_slider\" style=\"width: auto; position: relative;\">\n",
      "<li style=\"float: none; list-style: none; position: absolute; width: 100px; z-index: 50; display: block;\"><img alt=\"\" class=\"m_view_img\" data-zoom-image=\"https://image.istarbucks.co.kr/upload/store/skuimg/2015/07/[106509]_20150724164325877.jpg\" src=\"https://image.istarbucks.co.kr/upload/store/skuimg/2015/07/[106509]_20150724164325877.jpg\"/></li></ul></div><div class=\"bx-controls bx-has-controls-direction\"><div class=\"bx-controls-direction\"><a class=\"bx-prev disabled\" href=\"\">Prev</a><a class=\"bx-next disabled\" href=\"\">Next</a></div></div></div>\n",
      "<div class=\"m_view_controller\" style=\"display: none;\">\n",
      "<div class=\"m_view_controls\"></div>\n",
      "<div class=\"m_view_pagers\"><div class=\"bx-pager bx-default-pager\"><div class=\"bx-pager-item\"><a class=\"bx-pager-link active\" data-slide-index=\"0\" href=\"\">1</a></div></div></div>\n",
      "</div>\n",
      "<p id=\"prevBtn\" style=\"display: none;\"><a href=\"javascript:void(0)\" role=\"button\">이전 버튼</a><!-- 접근성_20171123 role 추가 --></p>\n",
      "<p id=\"nextBtn\" style=\"display: none;\"><a href=\"javascript:void(0)\" role=\"button\">다음 버튼</a><!-- 접근성_20171123 role 추가 --></p>\n",
      "</div>\n",
      "<form method=\"post\">\n",
      "<fieldset>\n",
      "<legend class=\"hid\">제품 영양 정보</legend>\n",
      "<div class=\"product_view_info\">\n",
      "<div class=\"product_info_head\">\n",
      "<p class=\"tit\">제품 영양 정보</p>\n",
      "<div class=\"product_select_wrap2\">\n",
      "<div class=\"selectTxt2\" id=\"product_info01\">Tall(톨) / 355ml (12 fl oz)</div>\n",
      "<div class=\"select_box select_box04\" id=\"productSelectBox\" style=\"display:none;\">\n",
      "<label class=\"value\" for=\"product_info02\">일반</label>\n",
      "<select id=\"product_info02\" title=\"제품 영양 정보\">\n",
      "<option value=\"일반\">일반</option>\n",
      "<option value=\"라이트\">라이트</option>\n",
      "</select>\n",
      "</div>\n",
      "</div>\n",
      "</div>\n",
      "<div class=\"product_info_content\">\n",
      "<ul>\n",
      "<li class=\"kcal\">\n",
      "<dl>\n",
      "<dt>1회 제공량 (kcal)</dt>\n",
      "<dd>5</dd>\n",
      "</dl>\n",
      "</li>\n",
      "<li class=\"sat_FAT\">\n",
      "<dl>\n",
      "<dt>포화지방 (g)</dt>\n",
      "<dd>0</dd>\n",
      "</dl>\n",
      "</li>\n",
      "<li class=\"protein\">\n",
      "<dl>\n",
      "<dt>단백질 (g)</dt>\n",
      "<dd>0</dd>\n",
      "</dl>\n",
      "</li>\n",
      "<li class=\"fat\" style=\"display:none;\">\n",
      "<dl>\n",
      "<dt>지방 (g)</dt>\n",
      "<dd>0</dd>\n",
      "</dl>\n",
      "</li>\n",
      "<li class=\"trans_FAT\" style=\"display:none;\">\n",
      "<dl>\n",
      "<dt>트랜스지방 (g)</dt>\n",
      "<dd>0</dd>\n",
      "</dl>\n",
      "</li>\n",
      "</ul>\n",
      "<ul>\n",
      "<li class=\"sodium\">\n",
      "<dl>\n",
      "<dt>나트륨 (mg)</dt>\n",
      "<dd>10</dd>\n",
      "</dl>\n",
      "</li>\n",
      "<li class=\"sugars\">\n",
      "<dl>\n",
      "<dt>당류 (g)</dt>\n",
      "<dd>0</dd>\n",
      "</dl>\n",
      "</li>\n",
      "<li class=\"caffeine last\">\n",
      "<dl>\n",
      "<dt>카페인 (mg)</dt>\n",
      "<dd>140</dd>\n",
      "</dl>\n",
      "</li>\n",
      "<li class=\"cholesterol\" style=\"display:none;\">\n",
      "<dl>\n",
      "<dt>콜레스테롤 (mg)</dt>\n",
      "<dd>0</dd>\n",
      "</dl>\n",
      "</li>\n",
      "<li class=\"chabo\" style=\"display:none;\">\n",
      "<dl>\n",
      "<dt>탄수화물 (g)</dt>\n",
      "<dd>0</dd>\n",
      "</dl>\n",
      "</li>\n",
      "</ul>\n",
      "</div>\n",
      "<div class=\"product_factor\" style=\"display: none;\">\n",
      "<p></p>\n",
      "</div>\n",
      "<div class=\"product_sns_wrap\">\n",
      "<ul class=\"product_sns\">\n",
      "<li data-sns=\"F\"><a href=\"javascript:void(0)\" title=\"페이스북 공유하기 새창\"><!-- 접근성_20171123 title 추가 --><img alt=\"페이스북 공유하기\" src=\"//image.istarbucks.co.kr/common/img/menu/sns02.png\"/><!-- 접근성_20171123 alt 추가 --></a></li>\n",
      "</ul>\n",
      "</div>\n",
      "<!-- 20160905 티바나 관련 추가 -->\n",
      "<p class=\"bnr_coldbrew_wrap bnr_teavana\" style=\"display:none;\"><a href=\"/menuStory/teavana.do\"><img alt=\"티바나 소개 페이지 바로가기\" src=\"//image.istarbucks.co.kr/common/img/menu/bnr_teavana_1907.jpg\"/></a></p>\n",
      "<!-- 20160905 티바나 관련 추가 end -->\n",
      "<!-- 콜드브루 배너 추가 -->\n",
      "<p class=\"bnr_coldbrew_wrap bnr_coldbrew\" style=\"display:none;\"><a href=\"/store/store_coldbrew.do\"><img alt=\"콜드브루 소개 페이지 바로가기\" src=\"/common/img/menu/bnr_coldbrew.png\"/><!-- 접근성_20171123 alt 추가 --></a></p>\n",
      "<!-- 콜드브루 배너 추가 end -->\n",
      "</div>\n",
      "</fieldset>\n",
      "</form>\n",
      "</div>\n",
      "</div>\n",
      "<div class=\"product_view_wrap2\">케냐, 하우스 블렌드 등 약간의 산미가 있는 커피를 드립 방식으로 추출한 후 얼음과 함께 제공하는 커피 입니다.  아이스 커피로 적합한 프리미엄 원두를 이용하여 깔끔하고 상큼한 맛을 느끼실 수 있습니다. </div>\n",
      "<!-- 제품 상세보기 end -->\n",
      "</div>]\n"
     ]
    }
   ],
   "source": [
    "print(drinks)"
   ]
  },
  {
   "cell_type": "code",
   "execution_count": 1,
   "metadata": {},
   "outputs": [
    {
     "name": "stdout",
     "output_type": "stream",
     "text": [
      " C 드라이브의 볼륨에는 이름이 없습니다.\n",
      " 볼륨 일련 번호: 8EC6-EBCA\n",
      "\n",
      " C:\\Users\\82104\\Dropbox\\스타벅스_크롤링 디렉터리\n",
      "\n",
      "2021-04-04  오전 02:17    <DIR>          .\n",
      "2021-04-04  오전 02:17    <DIR>          ..\n",
      "2021-04-04  오전 02:17    <DIR>          .ipynb_checkpoints\n",
      "2021-04-03  오후 05:39    <DIR>          .venv\n",
      "2021-04-03  오후 05:39    <DIR>          .vscode\n",
      "2021-04-03  오후 07:56               815 detail.py\n",
      "2021-04-03  오후 07:44             2,658 menu.py\n",
      "2021-04-03  오후 05:30                 0 starbucks_product.csv\n",
      "2021-04-03  오후 04:28            16,213 starbucks_product.excel\n",
      "2021-04-04  오전 02:17            25,851 VS코드너무느려서잠시이리로왔어요.ipynb\n",
      "2021-04-03  오후 05:50               762 참조.py\n",
      "               6개 파일              46,299 바이트\n",
      "               5개 디렉터리  67,823,636,480 바이트 남음\n"
     ]
    }
   ],
   "source": [
    "ls"
   ]
  },
  {
   "cell_type": "code",
   "execution_count": null,
   "metadata": {},
   "outputs": [],
   "source": []
  }
 ],
 "metadata": {
  "kernelspec": {
   "display_name": "Python 3",
   "language": "python",
   "name": "python3"
  },
  "language_info": {
   "codemirror_mode": {
    "name": "ipython",
    "version": 3
   },
   "file_extension": ".py",
   "mimetype": "text/x-python",
   "name": "python",
   "nbconvert_exporter": "python",
   "pygments_lexer": "ipython3",
   "version": "3.8.3"
  }
 },
 "nbformat": 4,
 "nbformat_minor": 4
}